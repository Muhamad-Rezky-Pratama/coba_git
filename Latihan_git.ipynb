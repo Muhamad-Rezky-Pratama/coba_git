{
 "cells": [
  {
   "cell_type": "code",
   "execution_count": null,
   "metadata": {},
   "outputs": [],
   "source": [
    "print('Nama : Muhamad Rezky Pratama')\n",
    "print('Usia : 19')\n",
    "print('Alamat : Sumedang, Jawa barat')\n",
    "print('Jenis Kelamin : Laki - laki')\n"
   ]
  }
 ],
 "metadata": {
  "kernelspec": {
   "display_name": "Python 3",
   "language": "python",
   "name": "python3"
  },
  "language_info": {
   "name": "python",
   "version": "3.12.6"
  }
 },
 "nbformat": 4,
 "nbformat_minor": 2
}
